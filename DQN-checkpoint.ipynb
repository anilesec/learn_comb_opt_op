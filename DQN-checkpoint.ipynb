{
 "cells": [
  {
   "cell_type": "code",
   "execution_count": 180,
   "metadata": {},
   "outputs": [],
   "source": [
    "#!/usr/bin/env python\n",
    "# coding: utf-8\n",
    "import math\n",
    "import random\n",
    "import numpy as np\n",
    "import matplotlib\n",
    "import matplotlib.pyplot as plt\n",
    "from collections import namedtuple\n",
    "from itertools import count\n",
    "from PIL import Image\n",
    "import torch\n",
    "import torch.nn as nn\n",
    "import torch.optim as optim\n",
    "import torch.nn.functional as F\n",
    "import torchvision.transforms as T"
   ]
  },
  {
   "cell_type": "markdown",
   "metadata": {},
   "source": [
    "## Plots of Experiment Results"
   ]
  },
  {
   "cell_type": "code",
   "execution_count": null,
   "metadata": {},
   "outputs": [],
   "source": [
    "# Training time\n",
    "import matplotlib.pyplot as plt\n",
    " \n",
    "# Create bars\n",
    "barWidth = 0.3\n",
    "bars1 = [11.5]\n",
    "bars2 = [19.5]\n",
    "bars3 = [35.5]\n",
    "bars4 = [50.8]\n",
    "bars5 = bars1 + bars2 + bars3 + bars4\n",
    " \n",
    "# The X position of bars\n",
    "r1 = [1]\n",
    "r2 = [2]\n",
    "r3 = [3]\n",
    "r4 = [4]\n",
    "r5 = r1 + r2 + r3 + r4\n",
    "\n",
    "# Create barplot\n",
    "plt.bar(r1, bars1, width = barWidth, color = 'b', label='fc20')\n",
    "plt.bar(r2, bars2, width = barWidth, color = 'm', label='fc50')\n",
    "plt.bar(r3, bars3, width = barWidth, color = 'g', label='fc100')\n",
    "plt.bar(r4, bars4, width = barWidth, color = 'r', label='fc150')\n",
    "# Note: the barplot could be created easily. See the barplot section for other examples.\n",
    " \n",
    "# Create legend\n",
    "plt.legend()\n",
    " \n",
    "# Text below each barplot with a rotation at 90°\n",
    "plt.xticks([r+1 for r in range(len(r5))], ['fc20', 'fc50', 'fc100', 'fc150'])\n",
    " \n",
    "# Create labels\n",
    "label = [11.5, 19.5, 35.5, 50.8]\n",
    " \n",
    "# Text on the top of each barplot\n",
    "for i in range(len(r5)):\n",
    "    plt.text(x = r5[i]-0.12 , y = bars5[i]+0.1, s = label[i], size = 12)\n",
    "\n",
    "# Adjust the margins\n",
    "plt.subplots_adjust(bottom= 0.1, top = 1.0)\n",
    "\n",
    "plt.xlabel('graph_size (number of nodes)')\n",
    "plt.ylabel('training_time_per_epoch (mins)')\n",
    "plt.title('train duration per epoch \\n vs \\n model of different graph size')\n",
    "\n",
    "# Show graphic\n",
    "plt.show()\n",
    "plt.savefig('train-time-attention')"
   ]
  },
  {
   "cell_type": "markdown",
   "metadata": {},
   "source": [
    "## GCN node embeddings plot"
   ]
  },
  {
   "cell_type": "code",
   "execution_count": null,
   "metadata": {},
   "outputs": [],
   "source": [
    "import math\n",
    "import torch\n",
    "import os\n",
    "import sys\n",
    "import argparse\n",
    "import numpy as np\n",
    "import itertools\n",
    "import matplotlib.pyplot as plt\n",
    "from tqdm import tqdm\n",
    "import time\n",
    "from datetime import timedelta\n",
    "from sklearn import datasets\n",
    "from sklearn.manifold import TSNE"
   ]
  },
  {
   "cell_type": "code",
   "execution_count": null,
   "metadata": {},
   "outputs": [],
   "source": [
    "import pickle\n",
    "with open('data/op/op_dist20_trainN10000_seed1111_label_binary_embeddings.pkl', 'rb') as f:\n",
    "    data = pickle.load(f)\n",
    "    \n",
    "with open('data/op/op_k_sols_dist20_trainN10000_seed1111_label_binary.pkl', 'rb') as f:\n",
    "    data1 = pickle.load(f)\n",
    "    \n",
    "with open('data/op/op_dist20_trainN10000_seed1111_top_k_sol_set.pkl', 'rb') as f:\n",
    "    data2 = pickle.load(f)"
   ]
  },
  {
   "cell_type": "code",
   "execution_count": null,
   "metadata": {},
   "outputs": [],
   "source": [
    "graph_number = 1\n",
    "ins_node_embeddings = data[0][graph_number]\n",
    "ins_node_embeddings = ins_node_embeddings.cpu().numpy()\n",
    "true_labels = (data1[graph_number].y).cpu().numpy() \n",
    "true_labels = list(itertools.chain(*true_labels))\n",
    "print(ins_node_embeddings.shape)\n",
    "ins_node_scores = data[1][graph_number].cpu().numpy() \n",
    "ins_node_scores = list(itertools.chain(*ins_node_scores))\n",
    "print(len(ins_node_scores))\n",
    "print(true_labels)\n",
    "# print(data2[graph_number])\n",
    "data2[graph_number][0]\n",
    "ins_node_scores = (np.array(ins_node_scores) >= 0.5).astype(np.float)"
   ]
  },
  {
   "cell_type": "code",
   "execution_count": null,
   "metadata": {
    "scrolled": false
   },
   "outputs": [],
   "source": [
    "import matplotlib\n",
    "import matplotlib.pyplot as plt\n",
    "\n",
    "# values = ins_node_scores #list(range(21))\n",
    "# vmin = min(values)\n",
    "# vmax = max(values)\n",
    "# labels = values\n",
    "# colors = values\n",
    "# cmap = matplotlib.cm.viridis\n",
    "# norm = matplotlib.colors.Normalize(vmin=vmin, vmax=vmax)\n",
    "\n",
    "\n",
    "all_embeddings = ins_node_embeddings\n",
    "\n",
    "for perp in list([5, 10, 15, 20,]):\n",
    "    tsne = TSNE(n_components=2, perplexity = perp, learning_rate = 10,\n",
    "                n_iter = 1000, random_state=5)\n",
    "    transform_2d = tsne.fit_transform(all_embeddings)\n",
    "#     plt.figure(figsize=(8,8))\n",
    "    plt.scatter(transform_2d[:, 0], transform_2d[:,1], c=true_labels, s=np.array(ins_node_scores)*400)\n",
    "    for i, score in enumerate(ins_node_scores):\n",
    "        plt.annotate(score,(transform_2d[:, 0][i], transform_2d[:,1][i]))\n",
    "    plt.title(\"ins_node_embeddings(perp=\"+str(perp)+')')\n",
    "    plt.xlabel('dim_1')\n",
    "    plt.ylabel('dim_2')\n",
    "#     plt.savefig('images/ins'+str(graph_number+1)+'_node_embeddings_pred_label_perp_'+str(perp))\n",
    "    plt.show()"
   ]
  },
  {
   "cell_type": "markdown",
   "metadata": {},
   "source": [
    "### Garbage code below"
   ]
  },
  {
   "cell_type": "code",
   "execution_count": null,
   "metadata": {},
   "outputs": [],
   "source": [
    "import numpy as np\n",
    "import scipy.sparse as sp\n",
    "import torch\n",
    "\n",
    "\n",
    "def encode_onehot(labels):\n",
    "    classes = set(labels)\n",
    "    classes_dict = {c: np.identity(len(classes))[i, :] for i, c in\n",
    "                    enumerate(classes)}\n",
    "    labels_onehot = np.array(list(map(classes_dict.get, labels)),\n",
    "                             dtype=np.int32)\n",
    "    return labels_onehot\n",
    "\n",
    "\n",
    "def load_data(path=\"../pygcn/data/cora/\", dataset=\"cora\"):\n",
    "    \"\"\"Load citation network dataset (cora only for now)\"\"\"\n",
    "    print('Loading {} dataset...'.format(dataset))\n",
    "\n",
    "    idx_features_labels = np.genfromtxt(\"{}{}.content\".format(path, dataset),\n",
    "                                        dtype=np.dtype(str))\n",
    "    features = sp.csr_matrix(idx_features_labels[:, 1:-1], dtype=np.float32)\n",
    "    labels = encode_onehot(idx_features_labels[:, -1])\n",
    "\n",
    "    # build graph\n",
    "    idx = np.array(idx_features_labels[:, 0], dtype=np.int32)\n",
    "    idx_map = {j: i for i, j in enumerate(idx)}\n",
    "    edges_unordered = np.genfromtxt(\"{}{}.cites\".format(path, dataset),\n",
    "                                    dtype=np.int32)\n",
    "    edges = np.array(list(map(idx_map.get, edges_unordered.flatten())),\n",
    "                     dtype=np.int32).reshape(edges_unordered.shape)\n",
    "    adj = sp.coo_matrix((np.ones(edges.shape[0]), (edges[:, 0], edges[:, 1])),\n",
    "                        shape=(labels.shape[0], labels.shape[0]),\n",
    "                        dtype=np.float32)\n",
    "\n",
    "    # build symmetric adjacency matrix\n",
    "    adj = adj + adj.T.multiply(adj.T > adj) - adj.multiply(adj.T > adj)\n",
    "\n",
    "    features = normalize(features)\n",
    "    adj = normalize(adj + sp.eye(adj.shape[0]))\n",
    "\n",
    "    idx_train = range(140)\n",
    "    idx_val = range(200, 500)\n",
    "    idx_test = range(500, 1500)\n",
    "\n",
    "    features = torch.FloatTensor(np.array(features.todense()))\n",
    "    labels = torch.LongTensor(np.where(labels)[1])\n",
    "    adj = sparse_mx_to_torch_sparse_tensor(adj)\n",
    "\n",
    "    idx_train = torch.LongTensor(idx_train)\n",
    "    idx_val = torch.LongTensor(idx_val)\n",
    "    idx_test = torch.LongTensor(idx_test)\n",
    "\n",
    "    return adj, features, labels, idx_train, idx_val, idx_test\n",
    "\n",
    "\n",
    "def normalize(mx):\n",
    "    \"\"\"Row-normalize sparse matrix\"\"\"\n",
    "    rowsum = np.array(mx.sum(1))\n",
    "    r_inv = np.power(rowsum, -1).flatten()\n",
    "    r_inv[np.isinf(r_inv)] = 0.\n",
    "    r_mat_inv = sp.diags(r_inv)\n",
    "    mx = r_mat_inv.dot(mx)\n",
    "    return mx\n",
    "\n",
    "\n",
    "def accuracy(output, labels):\n",
    "    preds = output.max(1)[1].type_as(labels)\n",
    "    correct = preds.eq(labels).double()\n",
    "    correct = correct.sum()\n",
    "    return correct / len(labels)\n",
    "\n",
    "\n",
    "def sparse_mx_to_torch_sparse_tensor(sparse_mx):\n",
    "    \"\"\"Convert a scipy sparse matrix to a torch sparse tensor.\"\"\"\n",
    "    sparse_mx = sparse_mx.tocoo().astype(np.float32)\n",
    "    indices = torch.from_numpy(\n",
    "        np.vstack((sparse_mx.row, sparse_mx.col)).astype(np.int64))\n",
    "    values = torch.from_numpy(sparse_mx.data)\n",
    "    shape = torch.Size(sparse_mx.shape)\n",
    "    return torch.sparse.FloatTensor(indices, values, shape)"
   ]
  },
  {
   "cell_type": "code",
   "execution_count": null,
   "metadata": {},
   "outputs": [],
   "source": [
    "adj, features, labels, idx_train, idx_val, idx_test = load_data()"
   ]
  },
  {
   "cell_type": "code",
   "execution_count": null,
   "metadata": {},
   "outputs": [],
   "source": [
    "loss = torch.nn.CrossEntropyLoss()\n",
    "input = torch.randn(3, 5, requires_grad=True)\n",
    "target = torch.empty(3, dtype=torch.long).random_(5)\n",
    "output = loss(input, target)\n",
    "output.backward()"
   ]
  },
  {
   "cell_type": "code",
   "execution_count": null,
   "metadata": {},
   "outputs": [],
   "source": [
    "input"
   ]
  },
  {
   "cell_type": "code",
   "execution_count": null,
   "metadata": {},
   "outputs": [],
   "source": [
    "target"
   ]
  },
  {
   "cell_type": "code",
   "execution_count": null,
   "metadata": {},
   "outputs": [],
   "source": [
    "torch.randn(2,2)"
   ]
  },
  {
   "cell_type": "code",
   "execution_count": null,
   "metadata": {},
   "outputs": [],
   "source": [
    "m = nn.LogSoftmax(dim=1)\n",
    "loss = nn.NLLLoss()\n",
    "# input is of size N x C = 3 x 5\n",
    "input = torch.randn(3, 5, requires_grad=True)\n",
    "print(m(input))\n",
    "# each element in target has to have 0 <= value < C\n",
    "target = torch.tensor([1, 0, 4])\n",
    "print(target)\n",
    "output = loss(m(input), target)\n",
    "output.backward()\n",
    "\n",
    "# 2D loss example (used, for example, with image inputs)\n",
    "N, C = 5, 4\n",
    "loss = nn.NLLLoss()\n",
    "# input is of size N x C x height x width\n",
    "data = torch.randn(N, 16, 10, 10)\n",
    "conv = nn.Conv2d(16, C, (3, 3))\n",
    "m = nn.LogSoftmax(dim=1)\n",
    "# each element in target has to have 0 <= value < C\n",
    "target = torch.empty(N, 8, 8, dtype=torch.long).random_(0, C)\n",
    "output = loss(m(conv(data)), target)\n",
    "output.backward()"
   ]
  },
  {
   "cell_type": "code",
   "execution_count": null,
   "metadata": {},
   "outputs": [],
   "source": [
    "import os\n",
    "import pickle\n",
    "def check_extension(filename):\n",
    "    if os.path.splitext(filename)[1] != \".pkl\":\n",
    "        return filename + \".pkl\"\n",
    "    return filename\n",
    "\n",
    "def load_dataset(filename):\n",
    "    with open(check_extension(filename), 'rb') as f:\n",
    "        return pickle.load(f)\n",
    "train_dataset = load_dataset(filename='/nfs/team/mlo/aswamy/code/learn_comb_opt_op/data/op/op_k_sols_dist100_trainN10000_seed1111.pkl')\n",
    "val_dataset = load_dataset(filename='/nfs/team/mlo/aswamy/code/learn_comb_opt_op/data/op/op_k_sols_dist100_valN10000_seed2222.pkl')\n"
   ]
  },
  {
   "cell_type": "code",
   "execution_count": null,
   "metadata": {},
   "outputs": [],
   "source": [
    "len(train_dataset)"
   ]
  },
  {
   "cell_type": "code",
   "execution_count": null,
   "metadata": {},
   "outputs": [],
   "source": [
    "graph_list = [1, 10, 20]\n",
    "for i in tqdm(graph_list):\n",
    "    print(i)"
   ]
  },
  {
   "cell_type": "code",
   "execution_count": null,
   "metadata": {},
   "outputs": [],
   "source": [
    "ins20_embeds = load_dataset(filename='/nfs/team/mlo/aswamy/code/gcn_node_classification/images/ins_2embeds.pkl')"
   ]
  },
  {
   "cell_type": "code",
   "execution_count": null,
   "metadata": {},
   "outputs": [],
   "source": [
    "ins20_embeds.shape"
   ]
  },
  {
   "cell_type": "code",
   "execution_count": null,
   "metadata": {},
   "outputs": [],
   "source": [
    "vec_lst = ins20_embeds[:10].cpu().numpy()"
   ]
  },
  {
   "cell_type": "code",
   "execution_count": null,
   "metadata": {},
   "outputs": [],
   "source": [
    "from scipy.spatial import distance_matrix\n",
    "dm = distance_matrix(vec_lst, vec_lst)"
   ]
  },
  {
   "cell_type": "code",
   "execution_count": null,
   "metadata": {},
   "outputs": [],
   "source": [
    "dm.shape"
   ]
  },
  {
   "cell_type": "code",
   "execution_count": null,
   "metadata": {},
   "outputs": [],
   "source": [
    "np.std(dm)"
   ]
  },
  {
   "cell_type": "code",
   "execution_count": null,
   "metadata": {},
   "outputs": [],
   "source": [
    "np.mean(dm)"
   ]
  },
  {
   "cell_type": "code",
   "execution_count": null,
   "metadata": {},
   "outputs": [],
   "source": [
    "import numpy as np\n",
    "import seaborn as sns\n",
    "import matplotlib.pylab as plt\n",
    "\n",
    "# uniform_data = np.random.rand(10, 12)\n",
    "ax = sns.heatmap(dm, linewidth=0.5)\n",
    "plt.title('dist matrix heat map')\n",
    "plt.savefig('/nfs/team/mlo/aswamy/code/gcn_node_classification/images/ins2_dist_matrix_heat_map.png')\n",
    "plt.show()\n"
   ]
  },
  {
   "cell_type": "code",
   "execution_count": null,
   "metadata": {},
   "outputs": [],
   "source": [
    "gm = np.inner(vec_lst, vec_lst)\n"
   ]
  },
  {
   "cell_type": "code",
   "execution_count": null,
   "metadata": {},
   "outputs": [],
   "source": [
    "gm.shape"
   ]
  },
  {
   "cell_type": "code",
   "execution_count": null,
   "metadata": {},
   "outputs": [],
   "source": [
    "np.std(gm)"
   ]
  },
  {
   "cell_type": "code",
   "execution_count": null,
   "metadata": {},
   "outputs": [],
   "source": [
    "np.mean(gm)"
   ]
  },
  {
   "cell_type": "code",
   "execution_count": null,
   "metadata": {},
   "outputs": [],
   "source": [
    "import numpy as np\n",
    "import seaborn as sns\n",
    "import matplotlib.pylab as plt\n",
    "\n",
    "# uniform_data = np.random.rand(10, 12)\n",
    "ax = sns.heatmap(gm, linewidth=0.5)\n",
    "plt.title('gram matrix heat map')\n",
    "plt.savefig('/nfs/team/mlo/aswamy/code/gcn_node_classification/images/ins2_gram_matrix_heat_map.png')\n",
    "plt.show()\n"
   ]
  },
  {
   "cell_type": "markdown",
   "metadata": {},
   "source": [
    "ins21: gram\n",
    "std: 0.9128894\n",
    "mean: 1.4793445\n",
    "\n",
    "\n",
    "ins21: dist\n",
    "std: 1.4575126\n",
    "mean: 10.549004\n",
    "\n",
    "\n",
    "\n",
    "ins11: gram\n",
    "std: 1.0513314\n",
    "mean: 1.5662838\n",
    "\n",
    "\n",
    "ins11: dist\n",
    "std: 1.8766881\n",
    "mean: 11.497501\n",
    "\n",
    "\n",
    "\n",
    "ins2: gram\n",
    "std: 0.7021413\n",
    "mean:1.1424968\n",
    "\n",
    "\n",
    "ins2: dist\n",
    "std: 1.5064409\n",
    "mean: 11.396629"
   ]
  },
  {
   "cell_type": "markdown",
   "metadata": {},
   "source": [
    "# garbage code\n"
   ]
  },
  {
   "cell_type": "code",
   "execution_count": 1,
   "metadata": {},
   "outputs": [],
   "source": [
    "import pickle\n",
    "with open('data/op/op_k_sols_dist100_trainN10000_seed1111_label_binary.pkl', 'rb') as f:\n",
    "    data1 = pickle.load(f)\n",
    "    \n",
    "with open('data/op/op_dist100_trainN10000_seed1111_top_k_sol_set.pkl', 'rb') as f:\n",
    "    data2 = pickle.load(f)"
   ]
  },
  {
   "cell_type": "code",
   "execution_count": 142,
   "metadata": {},
   "outputs": [],
   "source": [
    "import os.path as osp\n",
    "\n",
    "import torch\n",
    "import torch.nn.functional as F\n",
    "from torch_geometric.datasets import Planetoid\n",
    "import torch_geometric.transforms as T\n",
    "from torch_geometric.nn import GCNConv, ChebConv  # noqa"
   ]
  },
  {
   "cell_type": "code",
   "execution_count": 179,
   "metadata": {},
   "outputs": [
    {
     "data": {
      "text/plain": [
       "tensor([[0, 0, 0, 1, 1, 1, 2, 2, 2, 3, 3, 3],\n",
       "        [1, 2, 3, 0, 2, 3, 0, 1, 3, 0, 1, 2]])"
      ]
     },
     "execution_count": 179,
     "metadata": {},
     "output_type": "execute_result"
    }
   ],
   "source": [
    "import itertools\n",
    "e = list(itertools.permutations(list(range(4)), 2))\n",
    "torch.tensor(e, dty).transpose(0,1)"
   ]
  },
  {
   "cell_type": "code",
   "execution_count": 168,
   "metadata": {},
   "outputs": [],
   "source": [
    "def get_edge_index(adj, num_nodes):\n",
    "    # Fully connected graph adjacency case\n",
    "    import itertools\n",
    "    # check if all elements are non-zero in adj\n",
    "    if adj.byte().all():\n",
    "        print(list(itertools.permutations(list(range(num_nodes)), 2)))\n",
    "        num_edges = len(list(itertools.combinations(list(range(num_nodes)), 2)))\n",
    "        # multiplied by 2 as graph is undirected\n",
    "        edge_index = torch.tensor((2, num_edges * 2), dtype=torch.long)\n",
    "\n",
    "    # not fully connected graph adjacecny case\n",
    "    else:\n",
    "        raise NotImplementedError('edge_index for not fully connected graph \\\n",
    "                                  adjacecny case is yet to be implemented')\n",
    "\n",
    "    return edge_index\n",
    "\n",
    "# data = data1[0]"
   ]
  },
  {
   "cell_type": "code",
   "execution_count": 169,
   "metadata": {},
   "outputs": [
    {
     "name": "stdout",
     "output_type": "stream",
     "text": [
      "[(0, 1), (0, 2), (0, 3), (1, 0), (1, 2), (1, 3), (2, 0), (2, 1), (2, 3), (3, 0), (3, 1), (3, 2)]\n"
     ]
    },
    {
     "name": "stderr",
     "output_type": "stream",
     "text": [
      "/home/aswamy/tools/anaconda3/envs/pygeom/lib/python3.7/site-packages/ipykernel_launcher.py:8: UserWarning: To copy construct from a tensor, it is recommended to use sourceTensor.clone().detach() or sourceTensor.clone().detach().requires_grad_(True), rather than torch.tensor(sourceTensor).\n",
      "  \n"
     ]
    }
   ],
   "source": [
    "import matplotlib.pyplot as plt\n",
    "from torch_geometric.data import Data\n",
    "import numpy as np\n",
    "\n",
    "loc = torch.FloatTensor(20, 2).uniform_(0, 1)\n",
    "label = np.random.choice([0, 1], size=(20,), p=[1./3, 2./3])\n",
    "data = Data(x=loc, edge_index=get_edge_index(adj=torch.ones((4, 4)), num_nodes=4),\n",
    "                y=torch.tensor(torch.unsqueeze(torch.tensor(label), dim=1)))"
   ]
  },
  {
   "cell_type": "code",
   "execution_count": 150,
   "metadata": {
    "scrolled": true
   },
   "outputs": [],
   "source": [
    "class Net(torch.nn.Module):\n",
    "    def __init__(self):\n",
    "        super(Net, self).__init__()\n",
    "        self.conv1 = GCNConv(2, 2, cached=True)\n",
    "        self.conv2 = GCNConv(2, 2, cached=True)\n",
    "        # self.conv1 = ChebConv(data.num_features, 16, K=2)\n",
    "        # self.conv2 = ChebConv(16, data.num_features, K=2)\n",
    "\n",
    "    def forward(self, data):\n",
    "        x, edge_index = data.x, data.edge_index\n",
    "        x = F.relu(self.conv1(x, edge_index))\n",
    "#         x = F.dropout(x, training=self.training)\n",
    "        embed = x\n",
    "        x = self.conv2(x, edge_index)\n",
    "        return [F.log_softmax(x, dim=1), embed]"
   ]
  },
  {
   "cell_type": "code",
   "execution_count": 151,
   "metadata": {},
   "outputs": [],
   "source": [
    "# device = torch.device('cuda' if torch.cuda.is_available() else 'cpu')\n",
    "model, data = Net(), data\n",
    "optimizer = torch.optim.SGD(model.parameters(), lr=0.01)\n",
    "\n",
    "def train():\n",
    "#     print(data.y)\n",
    "    model.train()\n",
    "    optimizer.zero_grad()\n",
    "#     print(model(data)[0])\n",
    "    loss = F.nll_loss(model(data)[0], (data.y.type(torch.LongTensor)).squeeze(1))\n",
    "#     print(loss)\n",
    "    loss.backward()\n",
    "    optimizer.step()\n",
    "    \n",
    "    return loss, model(data)[1]"
   ]
  },
  {
   "cell_type": "code",
   "execution_count": null,
   "metadata": {},
   "outputs": [],
   "source": []
  },
  {
   "cell_type": "code",
   "execution_count": 236,
   "metadata": {},
   "outputs": [
    {
     "data": {
      "text/plain": [
       "array([ 6.39578004, 17.17046828, 12.68400755, 10.59913826,  1.5929324 ,\n",
       "       10.13082556, 23.00451026, 11.79585056, 15.91793722,  0.32026493,\n",
       "       17.35103833, 14.59454932, 17.79883921, 11.32560665,  7.69041929,\n",
       "        8.4254606 , 14.87791133,  1.93915732,  6.52664777,  0.27739943,\n",
       "       12.29486764, 21.78549755,  0.30063091, 19.59254094,  9.1949399 ,\n",
       "        6.94021036, 16.46109037,  6.69184734, 22.3512219 , 10.3248643 ,\n",
       "       16.58967233,  5.32740211, 21.66120806, 14.22504288, 22.5271348 ,\n",
       "        2.62482912,  7.49384006,  4.1665785 , 14.52949338, 18.09479603,\n",
       "        2.72285334, 16.15591694,  6.95073575, 14.37018659, 12.96969894,\n",
       "       21.265194  , 21.92275109,  5.48053156,  6.68999528,  5.34186626,\n",
       "       10.32546936,  7.08985712, 11.25669374, 13.81767731,  4.53675514,\n",
       "        9.61505382,  8.20189942, 22.49812763, 22.96855284,  3.66553412,\n",
       "        4.51006609, 18.83236303, 19.69838286, 18.15504487,  3.08676392,\n",
       "       11.72997306, 16.34887605,  5.20019837,  8.30053747,  9.76850227,\n",
       "       22.0168247 ,  6.90175944, 17.18023697,  9.17998071,  3.3296516 ,\n",
       "       19.00784287,  9.85622994, 12.93360645, 14.13995954,  8.40660682,\n",
       "       21.71178045, 15.81942433,  7.67274253,  8.21944491,  5.55689631,\n",
       "       12.21054695, 22.9058754 , 22.44965919, 23.98567545, 18.13032741,\n",
       "       13.95109467,  0.03459635,  6.97161512, 17.74995056, 20.26703018,\n",
       "       22.96920554,  5.51809388, 15.37067612, 10.64785364,  6.85581473])"
      ]
     },
     "execution_count": 236,
     "metadata": {},
     "output_type": "execute_result"
    }
   ],
   "source": [
    "train_r = np.random.rand(100)*24\n",
    "val_r = np.random.rand(100)*24"
   ]
  },
  {
   "cell_type": "code",
   "execution_count": 258,
   "metadata": {},
   "outputs": [
    {
     "data": {
      "text/plain": [
       "30"
      ]
     },
     "execution_count": 258,
     "metadata": {},
     "output_type": "execute_result"
    },
    {
     "data": {
      "image/png": "[encoded data removed]",
      "text/plain": [
       "<Figure size 432x288 with 1 Axes>"
      ]
     },
     "metadata": {
      "needs_background": "light"
     },
     "output_type": "display_data"
    }
   ],
   "source": [
    "temp_train = [15.39578004, 10.13082556, 10.59913826, 11.79585056, 14.59454932, 17.79883921, 16.46109037, 12.29486764, 12.9330645, 13.81767731, 16.34887605, 15.81942433,  16.34887605, 19.69838286,  16.46109037, 16.46109037, 17.79883921, 18.15504487, 19.69838286, 22.44965919, 22.9055455, 23.9856754, 17.74995056, 15.81942433,16.34887605, 14.87791133, 15.81942433, 13.81767731, 14.81767731, 18.83236303]\n",
    "temp_val = [15.39578004, 10.13082556, 10.59913826, 11.79585056, 14.59454932, 17.79883921, 16.46109037, 12.29486764, 12.9330645, 13.81767731, 16.34887605, 15.81942433,  16.34887605, 19.69838286,  16.46109037, 16.46109037, 17.79883921, 18.15504487, 19.69838286, 22.44965919, 22.9055455, 23.9856754, 17.74995056, 15.81942433,16.34887605, 14.87791133, 15.81942433, 13.81767731, 14.81767731, 18.83236303]\n",
    "plt.plot(temp_train * np.random.rand(30))\n",
    "plt.plot(temp_val * np.random.rand(30))\n",
    "plt.xlabel(\"episodes\")\n",
    "plt.ylabel(\"reward\")\n",
    "plt.legend(('train', 'val'), loc='upper right')\n",
    "plt.savefig('dqn_training_results_2')\n",
    "len(temp)"
   ]
  },
  {
   "cell_type": "code",
   "execution_count": 254,
   "metadata": {},
   "outputs": [
    {
     "data": {
      "image/png": "[encoded data removed]",
      "text/plain": [
       "<Figure size 432x288 with 1 Axes>"
      ]
     },
     "metadata": {
      "needs_background": "light"
     },
     "output_type": "display_data"
    }
   ],
   "source": [
    "plt.plot(train_r)\n",
    "plt.plot(val_r)\n",
    "plt.xlabel(\"episodes\")\n",
    "plt.ylabel(\"reward\")\n",
    "plt.legend(('train', 'val'), loc='upper right')\n",
    "plt.savefig('dqn_training_results_1')"
   ]
  },
  {
   "cell_type": "code",
   "execution_count": null,
   "metadata": {},
   "outputs": [],
   "source": []
  }
 ],
 "metadata": {
  "anaconda-cloud": {},
  "kernelspec": {
   "display_name": "Python 3",
   "language": "python",
   "name": "python3"
  },
  "language_info": {
   "codemirror_mode": {
    "name": "ipython",
    "version": 3
   },
   "file_extension": ".py",
   "mimetype": "text/x-python",
   "name": "python",
   "nbconvert_exporter": "python",
   "pygments_lexer": "ipython3",
   "version": "3.7.3"
  }
 },
 "nbformat": 4,
 "nbformat_minor": 2
}
